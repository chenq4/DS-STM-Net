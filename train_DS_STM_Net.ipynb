{
 "cells": [
  {
   "cell_type": "code",
   "execution_count": 1,
   "metadata": {},
   "outputs": [],
   "source": [
    "import os\n",
    "from collections import OrderedDict\n",
    "import numpy as np\n",
    "import pandas as pd\n",
    "from sklearn.model_selection import train_test_split\n",
    "import matplotlib.pyplot as plt\n",
    "import time\n",
    "import torch\n",
    "from torch import nn\n",
    "import torch\n",
    "import torchvision\n",
    "from torch import nn\n",
    "import torch.backends.cudnn as cudnn\n",
    "import torch.optim as optim\n",
    "from torch.optim import lr_scheduler\n",
    "from torch.autograd import Variable\n",
    "from albumentations.augmentations import transforms\n",
    "import albumentations as A\n",
    "from albumentations import RandomRotate90,Resize\n",
    "import yaml\n",
    "from torchvision.utils import save_image\n",
    "import torch.nn.functional as F\n",
    "from tqdm import tqdm\n",
    "import timm\n",
    "from timm.models.layers import DropPath, to_2tuple, trunc_normal_\n",
    "import types\n",
    "import math\n",
    "from abc import ABCMeta, abstractmethod\n",
    "from mmcv.cnn import ConvModule\n",
    "import pdb\n",
    "from dataloader import Dataset\n",
    "from arch.DS_STM_Net import Ds_StmNet\n",
    "from metrics import iou_score\n",
    "from utils import AverageMeter\n",
    "from losses import LovaszHingeLoss"
   ]
  },
  {
   "cell_type": "markdown",
   "metadata": {},
   "source": [
    "## param"
   ]
  },
  {
   "cell_type": "code",
   "execution_count": 2,
   "metadata": {},
   "outputs": [
    {
     "data": {
      "text/plain": [
       "{'name': 'BUSI_1203_Ds_StmNet',\n",
       " 'dataset': 'Dataset_BUSI_with_GT',\n",
       " 'epochs': 800,\n",
       " 'input_channels': 3,\n",
       " 'output_channels': 1,\n",
       " 'input_hw': 512,\n",
       " 'lr': 0.0001,\n",
       " 'momentum': 0.9,\n",
       " 'weight_decay': 0.0003,\n",
       " 'batch_size': 4,\n",
       " 'num_workers': 8,\n",
       " 'min_lr': 1e-06,\n",
       " 'result_dir': './result/BUSI_1203_Ds_StmNet',\n",
       " 'isPretrain': True,\n",
       " 'pretrain_name': 'BUSI_1202_Ds_StmNet',\n",
       " 'pretrain_dir': './result/BUSI_1202_Ds_StmNet'}"
      ]
     },
     "execution_count": 2,
     "metadata": {},
     "output_type": "execute_result"
    }
   ],
   "source": [
    "config = {}\n",
    "config['name'] = 'BUSI_1203_Ds_StmNet'\n",
    "config['dataset'] = 'Dataset_BUSI_with_GT'\n",
    "config['epochs'] = 800\n",
    "config['input_channels'] = 3\n",
    "config['output_channels'] = 1\n",
    "config['input_hw'] = 512\n",
    "config['lr'] = 1e-4\n",
    "config['momentum'] = 0.9\n",
    "config['weight_decay'] = 3e-4\n",
    "config['batch_size'] = 4\n",
    "config['num_workers'] = 8\n",
    "config['min_lr'] = 1e-6\n",
    "config['result_dir'] = os.path.join('./result',config['name'])\n",
    "config['isPretrain'] = True\n",
    "config['pretrain_name'] = 'BUSI_1202_Ds_StmNet'\n",
    "if not os.path.exists(os.path.join('./result',config['pretrain_name'])):\n",
    "    config['pretrain_dir'] = None\n",
    "else :\n",
    "    config['pretrain_dir'] = os.path.join('./result',config['pretrain_name'])\n",
    "config"
   ]
  },
  {
   "cell_type": "code",
   "execution_count": 14,
   "metadata": {},
   "outputs": [],
   "source": [
    "if not os.path.exists(config['result_dir']):\n",
    "    os.makedirs(config['result_dir'])"
   ]
  },
  {
   "cell_type": "markdown",
   "metadata": {},
   "source": [
    "## dataset"
   ]
  },
  {
   "cell_type": "code",
   "execution_count": 9,
   "metadata": {},
   "outputs": [
    {
     "data": {
      "text/plain": [
       "130"
      ]
     },
     "execution_count": 9,
     "metadata": {},
     "output_type": "execute_result"
    }
   ],
   "source": [
    "train_img_ids = np.load(os.path.join('./datasets',config['dataset'],'train_img_ids.npy'))\n",
    "valid_img_ids = np.load(os.path.join('./datasets',config['dataset'],'valid_img_ids.npy'))\n",
    "len(valid_img_ids)"
   ]
  },
  {
   "cell_type": "code",
   "execution_count": 16,
   "metadata": {},
   "outputs": [],
   "source": [
    "train_transform = A.Compose([\n",
    "    A.RandomRotate90(),\n",
    "    A.Flip(),\n",
    "])\n",
    "\n",
    "train_dataset = Dataset(\n",
    "    dataset=config['dataset'],\n",
    "    img_names=train_img_ids,\n",
    "    transform=train_transform\n",
    ")\n",
    "train_loader = torch.utils.data.DataLoader(\n",
    "    train_dataset,\n",
    "    batch_size=config['batch_size'],\n",
    "    shuffle=True,\n",
    "    num_workers=config['num_workers'])\n",
    "\n",
    "# 没有测试集么？\n",
    "valid_transform = A.Compose([\n",
    "#     A.Normalize(),  # 也不需要\n",
    "])\n",
    "\n",
    "valid_dataset = Dataset(\n",
    "    dataset=config['dataset'],\n",
    "    img_names=valid_img_ids,\n",
    "    transform=valid_transform\n",
    ")\n",
    "valid_loader = torch.utils.data.DataLoader(\n",
    "    valid_dataset,\n",
    "    batch_size=config['batch_size'],\n",
    "    shuffle=False,\n",
    "    num_workers=config['num_workers'])"
   ]
  },
  {
   "cell_type": "markdown",
   "metadata": {},
   "source": [
    "## model"
   ]
  },
  {
   "cell_type": "code",
   "execution_count": 17,
   "metadata": {},
   "outputs": [
    {
     "name": "stdout",
     "output_type": "stream",
     "text": [
      "模型参数量：7.473105M个\n",
      "torch.Size([1, 1, 512, 512])\n"
     ]
    },
    {
     "name": "stderr",
     "output_type": "stream",
     "text": [
      "/_chenqi45w/anaconda3/envs/unext/lib/python3.6/site-packages/torch/nn/functional.py:3063: UserWarning: Default upsampling behavior when mode=bilinear is changed to align_corners=False since 0.4.0. Please specify align_corners=True if the old behavior is desired. See the documentation of nn.Upsample for details.\n",
      "  \"See the documentation of nn.Upsample for details.\".format(mode))\n"
     ]
    }
   ],
   "source": [
    "model = Ds_StmNet(num_classes=1, input_channels=3,img_size=512)\n",
    "params = list(model.parameters())\n",
    "num_params = sum([p.numel() for p in params]) / 1e6\n",
    "print(\"模型参数量：{}M个\".format(num_params))\n",
    "device = torch.device('cuda')\n",
    "model = model.to(device)\n",
    "# print(a)\n",
    "X = torch.rand(size=(1,3,512,512),dtype=torch.float32)\n",
    "X = X.to(device)\n",
    "X= model(X)\n",
    "print(X.shape)\n",
    "del model\n",
    "del X\n",
    "torch.cuda.empty_cache()"
   ]
  },
  {
   "cell_type": "markdown",
   "metadata": {},
   "source": [
    "## train"
   ]
  },
  {
   "cell_type": "code",
   "execution_count": 18,
   "metadata": {},
   "outputs": [],
   "source": [
    "def train(config, train_loader, model, criterion, optimizer):\n",
    "    avg_meters = {'loss': AverageMeter(),\n",
    "                  'iou': AverageMeter()}\n",
    "\n",
    "    model.train()\n",
    "\n",
    "    pbar = tqdm(total=len(train_loader))\n",
    "    for input_, target_ in train_loader:\n",
    "#         print(\"train:\",input_.max(),input_.min(),target_.max(),target_.min())\n",
    "        input_ = input_.cuda()\n",
    "        target_ = target_.cuda()\n",
    "\n",
    "        output = model(input_)\n",
    "        loss = criterion(output, target_)\n",
    "        iou,dice = iou_score(output, target_)\n",
    "\n",
    "        # compute gradient and do optimizing step\n",
    "        optimizer.zero_grad()\n",
    "        loss.backward()\n",
    "        optimizer.step()\n",
    "\n",
    "        avg_meters['loss'].update(loss.item(), input_.size(0))\n",
    "        avg_meters['iou'].update(iou, input_.size(0))\n",
    "\n",
    "        postfix = OrderedDict([\n",
    "            ('loss', avg_meters['loss'].avg),\n",
    "            ('iou', avg_meters['iou'].avg),\n",
    "        ])\n",
    "        pbar.set_postfix(postfix)\n",
    "        pbar.update(1)\n",
    "    pbar.close()\n",
    "\n",
    "    return OrderedDict([('loss', avg_meters['loss'].avg),\n",
    "                        ('iou', avg_meters['iou'].avg)])"
   ]
  },
  {
   "cell_type": "markdown",
   "metadata": {},
   "source": [
    "## valid"
   ]
  },
  {
   "cell_type": "code",
   "execution_count": 19,
   "metadata": {},
   "outputs": [],
   "source": [
    "def validate(config, val_loader, model, criterion):\n",
    "    avg_meters = {'loss': AverageMeter(),\n",
    "                  'iou': AverageMeter(),\n",
    "                   'dice': AverageMeter()}\n",
    "\n",
    "    # switch to evaluate mode\n",
    "    model.eval()\n",
    "\n",
    "    with torch.no_grad():\n",
    "        pbar = tqdm(total=len(val_loader))\n",
    "        for input_, target_ in val_loader:\n",
    "#             print(\"valid:\",input_.max(),input_.min(),target_.max(),target_.min())\n",
    "            input_ = input_.cuda()\n",
    "            target_ = target_.cuda()\n",
    "\n",
    "            output = model(input_)\n",
    "            loss = criterion(output, target_)\n",
    "            iou,dice = iou_score(output, target_)\n",
    "\n",
    "            avg_meters['loss'].update(loss.item(), input_.size(0))\n",
    "            avg_meters['iou'].update(iou, input_.size(0))\n",
    "            avg_meters['dice'].update(dice, input_.size(0))\n",
    "\n",
    "            postfix = OrderedDict([\n",
    "                ('loss', avg_meters['loss'].avg),\n",
    "                ('iou', avg_meters['iou'].avg),\n",
    "                ('dice', avg_meters['dice'].avg)\n",
    "            ])\n",
    "            pbar.set_postfix(postfix)\n",
    "            pbar.update(1)\n",
    "        pbar.close()\n",
    "\n",
    "    return OrderedDict([('loss', avg_meters['loss'].avg),\n",
    "                        ('iou', avg_meters['iou'].avg),\n",
    "                        ('dice', avg_meters['dice'].avg)])"
   ]
  },
  {
   "cell_type": "markdown",
   "metadata": {},
   "source": [
    "## run"
   ]
  },
  {
   "cell_type": "code",
   "execution_count": null,
   "metadata": {},
   "outputs": [],
   "source": [
    "cudnn.benchmark = True\n",
    "# criterion = nn.BCEWithLogitsLoss().cuda()\n",
    "criterion = LovaszHingeLoss().cuda()\n",
    "model = Ds_StmNet(num_classes=1, input_channels=3,img_size=256)\n",
    "if config['isPretrain'] and config['pretrain_dir'] is not None:\n",
    "    print(\"loading model...\")\n",
    "    model.load_state_dict(torch.load(os.path.join(config['pretrain_dir'],'model.pth')),strict=True)\n",
    "    print(\"load model success!\")\n",
    "else:\n",
    "    print(\"no pretrain\")\n",
    "model = model.cuda()\n",
    "optimizer = optim.Adam(model.parameters(), lr=config['lr'], weight_decay=config['weight_decay'])\n",
    "scheduler = lr_scheduler.CosineAnnealingLR(optimizer, T_max=config['epochs'], eta_min=config['min_lr'])\n",
    "\n",
    "log = OrderedDict([\n",
    "    ('epoch', []),\n",
    "    ('lr', []),\n",
    "    ('loss', []),\n",
    "    ('iou', []),\n",
    "    ('val_loss', []),\n",
    "    ('val_iou', []),\n",
    "    ('val_dice', []),\n",
    "])\n",
    "\n",
    "best_iou = 0\n",
    "\n",
    "start_time = time.time()\n",
    "for epoch in range(config['epochs']):\n",
    "    print('Epoch [%d/%d]' % (epoch, config['epochs']))\n",
    "    # train for one epoch\n",
    "    train_log = train(config, train_loader, model, criterion, optimizer)\n",
    "    # evaluate on validation set\n",
    "    val_log = validate(config, valid_loader, model, criterion)\n",
    "\n",
    "    print('loss %.4f - iou %.4f - val_loss %.4f - val_iou %.4f'\n",
    "          % (train_log['loss'], train_log['iou'], val_log['loss'], val_log['iou']))\n",
    "    log['epoch'].append(epoch)\n",
    "    log['lr'].append(optimizer.state_dict()['param_groups'][0]['lr'])\n",
    "    log['loss'].append(train_log['loss'])\n",
    "    log['iou'].append(train_log['iou'])\n",
    "    log['val_loss'].append(val_log['loss'])\n",
    "    log['val_iou'].append(val_log['iou'])\n",
    "    log['val_dice'].append(val_log['dice'])\n",
    "\n",
    "    if val_log['iou'] > best_iou:\n",
    "        torch.save(model.state_dict(), 'result/%s/model.pth' %\n",
    "                   config['name'])\n",
    "        best_iou = val_log['iou']\n",
    "        print(\"=> saved best model\")\n",
    "    \n",
    "    pd.DataFrame(log).to_csv('result/%s/log.csv' %\n",
    "                         config['name'], index=False)\n",
    "    scheduler.step()\n",
    "    torch.cuda.empty_cache()\n",
    "end_time = time.time()\n",
    "print(\"best iou: %.4f\"%best_iou)\n",
    "print('Running time: %s Seconds' % (end_time - start_time))"
   ]
  },
  {
   "cell_type": "markdown",
   "metadata": {},
   "source": [
    "# best score"
   ]
  },
  {
   "cell_type": "code",
   "execution_count": 6,
   "metadata": {},
   "outputs": [
    {
     "data": {
      "text/html": [
       "<div>\n",
       "<style scoped>\n",
       "    .dataframe tbody tr th:only-of-type {\n",
       "        vertical-align: middle;\n",
       "    }\n",
       "\n",
       "    .dataframe tbody tr th {\n",
       "        vertical-align: top;\n",
       "    }\n",
       "\n",
       "    .dataframe thead th {\n",
       "        text-align: right;\n",
       "    }\n",
       "</style>\n",
       "<table border=\"1\" class=\"dataframe\">\n",
       "  <thead>\n",
       "    <tr style=\"text-align: right;\">\n",
       "      <th></th>\n",
       "      <th>epoch</th>\n",
       "      <th>lr</th>\n",
       "      <th>loss</th>\n",
       "      <th>iou</th>\n",
       "      <th>val_loss</th>\n",
       "      <th>val_iou</th>\n",
       "      <th>val_dice</th>\n",
       "    </tr>\n",
       "  </thead>\n",
       "  <tbody>\n",
       "    <tr>\n",
       "      <th>0</th>\n",
       "      <td>0</td>\n",
       "      <td>0.0001</td>\n",
       "      <td>0.524455</td>\n",
       "      <td>0.200228</td>\n",
       "      <td>0.348247</td>\n",
       "      <td>0.375055</td>\n",
       "      <td>0.529640</td>\n",
       "    </tr>\n",
       "    <tr>\n",
       "      <th>1</th>\n",
       "      <td>1</td>\n",
       "      <td>0.0001</td>\n",
       "      <td>0.295422</td>\n",
       "      <td>0.294518</td>\n",
       "      <td>0.225066</td>\n",
       "      <td>0.417713</td>\n",
       "      <td>0.567536</td>\n",
       "    </tr>\n",
       "    <tr>\n",
       "      <th>2</th>\n",
       "      <td>2</td>\n",
       "      <td>0.0001</td>\n",
       "      <td>0.231708</td>\n",
       "      <td>0.341651</td>\n",
       "      <td>0.174054</td>\n",
       "      <td>0.413897</td>\n",
       "      <td>0.557356</td>\n",
       "    </tr>\n",
       "    <tr>\n",
       "      <th>3</th>\n",
       "      <td>3</td>\n",
       "      <td>0.0001</td>\n",
       "      <td>0.211417</td>\n",
       "      <td>0.371796</td>\n",
       "      <td>0.156758</td>\n",
       "      <td>0.453419</td>\n",
       "      <td>0.599183</td>\n",
       "    </tr>\n",
       "    <tr>\n",
       "      <th>4</th>\n",
       "      <td>4</td>\n",
       "      <td>0.0001</td>\n",
       "      <td>0.199235</td>\n",
       "      <td>0.395528</td>\n",
       "      <td>0.169954</td>\n",
       "      <td>0.284747</td>\n",
       "      <td>0.403157</td>\n",
       "    </tr>\n",
       "  </tbody>\n",
       "</table>\n",
       "</div>"
      ],
      "text/plain": [
       "   epoch      lr      loss       iou  val_loss   val_iou  val_dice\n",
       "0      0  0.0001  0.524455  0.200228  0.348247  0.375055  0.529640\n",
       "1      1  0.0001  0.295422  0.294518  0.225066  0.417713  0.567536\n",
       "2      2  0.0001  0.231708  0.341651  0.174054  0.413897  0.557356\n",
       "3      3  0.0001  0.211417  0.371796  0.156758  0.453419  0.599183\n",
       "4      4  0.0001  0.199235  0.395528  0.169954  0.284747  0.403157"
      ]
     },
     "execution_count": 6,
     "metadata": {},
     "output_type": "execute_result"
    }
   ],
   "source": [
    "config['name'] = 'BUSI_1202_Ds_StmNet'\n",
    "config['result_dir'] = os.path.join('./result',config['name'])\n",
    "import pandas as pd\n",
    "model = Ds_StmNet(num_classes=1, input_channels=3,img_size=256)\n",
    "model.load_state_dict(torch.load(os.path.join(config['result_dir'] ,'model.pth')),strict=True)\n",
    "result = pd.read_csv(os.path.join(config['result_dir'],'log.csv'))\n",
    "result.head()"
   ]
  },
  {
   "cell_type": "code",
   "execution_count": 7,
   "metadata": {},
   "outputs": [
    {
     "name": "stdout",
     "output_type": "stream",
     "text": [
      "模型参数量：7.473105M个\n"
     ]
    }
   ],
   "source": [
    "params = list(model.parameters())\n",
    "num_params = sum([p.numel() for p in params]) / 1e6\n",
    "print(\"模型参数量：{}M个\".format(num_params))"
   ]
  },
  {
   "cell_type": "code",
   "execution_count": 8,
   "metadata": {},
   "outputs": [
    {
     "data": {
      "text/plain": [
       "(0.6821389842450657, 0.7971834150615609)"
      ]
     },
     "execution_count": 8,
     "metadata": {},
     "output_type": "execute_result"
    }
   ],
   "source": [
    "result['val_iou'].max(),result['val_dice'].max()"
   ]
  },
  {
   "cell_type": "markdown",
   "metadata": {},
   "source": [
    "## 定性"
   ]
  },
  {
   "cell_type": "code",
   "execution_count": 10,
   "metadata": {},
   "outputs": [
    {
     "data": {
      "image/png": "[encoded data removed]",
      "text/plain": [
       "<Figure size 432x288 with 1 Axes>"
      ]
     },
     "metadata": {
      "needs_background": "light"
     },
     "output_type": "display_data"
    },
    {
     "data": {
      "image/png": "[encoded data removed]",
      "text/plain": [
       "<Figure size 432x288 with 1 Axes>"
      ]
     },
     "metadata": {
      "needs_background": "light"
     },
     "output_type": "display_data"
    },
    {
     "name": "stderr",
     "output_type": "stream",
     "text": [
      "/_chenqi45w/anaconda3/envs/unext/lib/python3.6/site-packages/torch/nn/functional.py:3063: UserWarning: Default upsampling behavior when mode=bilinear is changed to align_corners=False since 0.4.0. Please specify align_corners=True if the old behavior is desired. See the documentation of nn.Upsample for details.\n",
      "  \"See the documentation of nn.Upsample for details.\".format(mode))\n"
     ]
    },
    {
     "data": {
      "image/png": "[encoded data removed]",
      "text/plain": [
       "<Figure size 432x288 with 1 Axes>"
      ]
     },
     "metadata": {
      "needs_background": "light"
     },
     "output_type": "display_data"
    },
    {
     "name": "stdout",
     "output_type": "stream",
     "text": [
      "0.7342511474521964 0.846764493748084\n"
     ]
    }
   ],
   "source": [
    "result_img_dir = os.path.join('./result_img',config['dataset'])\n",
    "valid_img_ids = np.load(os.path.join('./datasets',config['dataset'],'valid_img_ids.npy'))\n",
    "valid_img = valid_img_ids[1]\n",
    "\n",
    "img = np.load(os.path.join('./datasets',config['dataset'],'images',valid_img))\n",
    "plt.imshow(img.transpose(1,2,0))\n",
    "plt.show()\n",
    "\n",
    "mask = np.load(os.path.join('./datasets',config['dataset'],'masks',valid_img))\n",
    "plt.imshow(mask.transpose(1,2,0),cmap = \"gray\")\n",
    "plt.show()\n",
    "\n",
    "model.eval()\n",
    "model = model.cuda()\n",
    "img1 = torch.Tensor(img).unsqueeze(0).cuda()\n",
    "pred = model(img1)\n",
    "pred = pred.squeeze(0).detach().cpu().numpy()\n",
    "plt.imshow(pred.transpose(1,2,0) > 0.5,cmap = \"gray\")\n",
    "plt.show()\n",
    "\n",
    "iou,dice = iou_score(pred, mask)\n",
    "print(iou,dice )\n",
    "\n",
    "config['result_img_dir_valid'] = os.path.join(result_img_dir,valid_img.split('.')[0])\n",
    "plt.imsave(os.path.join(config['result_img_dir_valid'] ,'DS_STM_Net.png'),(pred > 0.5)[0],cmap='gray')"
   ]
  },
  {
   "cell_type": "code",
   "execution_count": 11,
   "metadata": {},
   "outputs": [
    {
     "name": "stderr",
     "output_type": "stream",
     "text": [
      "100%|██████████| 130/130 [00:12<00:00, 10.64it/s, loss=0]\n"
     ]
    }
   ],
   "source": [
    "def save_all_test(model,img,mask):\n",
    "    model.eval()\n",
    "    model = model.cuda()\n",
    "    img1 = torch.Tensor(img).unsqueeze(0).cuda()\n",
    "    pred = model(img1)\n",
    "    pred = pred.squeeze(0).detach().cpu().numpy()\n",
    "    \n",
    "    plt.imsave(os.path.join(config['result_img_dir_valid'] ,'DS_STM_Net.png'),(pred > 0.5)[0],cmap='gray')\n",
    "    \n",
    "from tqdm import tqdm\n",
    "pbar = tqdm(total=len(valid_img_ids))\n",
    "for valid_img in valid_img_ids:\n",
    "    img = np.load(os.path.join('./datasets',config['dataset'],'images',valid_img))\n",
    "    mask = np.load(os.path.join('./datasets',config['dataset'],'masks',valid_img))\n",
    "    save_all_test(model,img,mask)\n",
    "    config['result_img_dir_valid'] = os.path.join(result_img_dir,valid_img.split('.')[0])\n",
    "    postfix = OrderedDict([\n",
    "        ('loss', 0)\n",
    "    ])\n",
    "    pbar.set_postfix(postfix)\n",
    "    pbar.update(1)\n",
    "pbar.close()"
   ]
  },
  {
   "cell_type": "code",
   "execution_count": null,
   "metadata": {},
   "outputs": [],
   "source": []
  }
 ],
 "metadata": {
  "kernelspec": {
   "display_name": "unext_env",
   "language": "python",
   "name": "unext"
  },
  "language_info": {
   "codemirror_mode": {
    "name": "ipython",
    "version": 3
   },
   "file_extension": ".py",
   "mimetype": "text/x-python",
   "name": "python",
   "nbconvert_exporter": "python",
   "pygments_lexer": "ipython3",
   "version": "3.6.13"
  }
 },
 "nbformat": 4,
 "nbformat_minor": 4
}
